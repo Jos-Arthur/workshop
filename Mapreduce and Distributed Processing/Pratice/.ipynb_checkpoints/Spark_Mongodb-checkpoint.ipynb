{
 "cells": [
  {
   "cell_type": "markdown",
   "metadata": {
    "id": "0z0zp9rC1c8z"
   },
   "source": [
    "La cellule ci après permet d'importer la bibliotheque qui initialise spark en local"
   ]
  },
  {
   "cell_type": "code",
   "execution_count": 1,
   "metadata": {
    "id": "0_CLIG6D0Gvn"
   },
   "outputs": [],
   "source": [
    "import findspark\n",
    "findspark.init('/opt/spark-3.0.1-bin-hadoop3.2')"
   ]
  },
  {
   "cell_type": "markdown",
   "metadata": {
    "id": "I78xSnQ307HN"
   },
   "source": [
    "La cellule ci apres permet d'importer les bibliotheques pyspark pour la connexion entre spark et mongodb"
   ]
  },
  {
   "cell_type": "code",
   "execution_count": 2,
   "metadata": {
    "id": "JTIj1RhutuAU"
   },
   "outputs": [],
   "source": [
    "from pyspark.sql.types import StructType, StructField, StringType, IntegerType\n",
    "from pyspark.sql import SparkSession"
   ]
  },
  {
   "cell_type": "code",
   "execution_count": 3,
   "metadata": {
    "id": "GYcBg8n40d-1"
   },
   "outputs": [],
   "source": [
    "input_uri=\"mongodb://127.0.0.1/pharma_db.medecine\"\n",
    "output_uri=\"mongodb://127.0.0.1/pharma_db.medecine\"\n",
    "\n",
    "myspark = SparkSession \\\n",
    "    .builder \\\n",
    "    .appName(\"myGIS\") \\\n",
    "    .config(\"spark.mongodb.input.uri\", input_uri) \\\n",
    "    .config(\"spark.mongodb.output.uri\", output_uri) \\\n",
    "    .config(\"spark.jars.packages\",\"org.mongodb.spark:mongo-spark-connector_2.12:2.4.2\") \\\n",
    "    .getOrCreate()"
   ]
  },
  {
   "cell_type": "markdown",
   "metadata": {
    "id": "y_yK0pkUywJG"
   },
   "source": [
    "La cellule ci dessous permet d'extraire des donnees de la collection medical_products de la base GIS"
   ]
  },
  {
   "cell_type": "code",
   "execution_count": 4,
   "metadata": {
    "id": "7g8B79rnyjY9"
   },
   "outputs": [
    {
     "name": "stdout",
     "output_type": "stream",
     "text": [
      "root\n",
      " |-- _id: struct (nullable = true)\n",
      " |    |-- oid: string (nullable = true)\n",
      " |-- cluster_ref: string (nullable = true)\n",
      " |-- drugs: string (nullable = true)\n",
      " |-- pharmacy: string (nullable = true)\n",
      " |-- quantity: double (nullable = true)\n",
      " |-- region_name: string (nullable = true)\n",
      " |-- site_ref: string (nullable = true)\n",
      " |-- specif: string (nullable = true)\n",
      "\n",
      "None\n",
      "+--------------------+-----------+-------------+--------+--------+-----------+--------+--------+\n",
      "|                 _id|cluster_ref|        drugs|pharmacy|quantity|region_name|site_ref|  specif|\n",
      "+--------------------+-----------+-------------+--------+--------+-----------+--------+--------+\n",
      "|[602728d04079925f...|      (0,0)|  Amocexiline|  Soudia|    40.0|Belle-ville|   (0,1)|400mg/ml|\n",
      "|[602728d04079925f...|      (0,0)|    Diazopame|  Soudia|    40.0|Belle-ville|   (0,1)|  5mg/ml|\n",
      "|[602728d04079925f...|      (0,0)|    Etomidate|  Soudia|    40.0|Belle-ville|   (0,1)|  2mg/ml|\n",
      "|[602728d04079925f...|      (0,0)|  Paracetamol|  Soudia|    40.0|Belle-ville|   (0,1)|400mg/ml|\n",
      "|[602728d04079925f...|      (0,0)|  Paracetamol|  Soudia|    40.0|Belle-ville|   (0,1)|400mg/ml|\n",
      "|[602728d04079925f...|      (0,0)|   Diclofenac|  Soudia|    40.0|Belle-ville|   (0,1)| 75mg/ml|\n",
      "|[602728d04079925f...|      (0,0)|      Spasfon|  Soudia|    40.0|Belle-ville|   (0,1)|500mg/ml|\n",
      "|[602728d04079925f...|      (0,0)|Noradrenaline|  Soudia|    40.0|Belle-ville|   (0,1)|  2mg/ml|\n",
      "|[602728d04079925f...|      (0,0)|Carbamazepine|  Soudia|    40.0|Belle-ville|   (0,1)|400mg/ml|\n",
      "|[602728d04079925f...|      (0,0)|      Quinine|  Soudia|    40.0|Belle-ville|   (0,1)|400mg/ml|\n",
      "|[60272a984079925f...|      (0,0)|     Morphine|  Soudia|    40.0|Belle-ville|   (0,1)|  2mg/ml|\n",
      "|[60272a984079925f...|      (0,0)|     Morphine|  Soudia|    40.0|Belle-ville|   (0,1)|  2mg/ml|\n",
      "|[60272a984079925f...|      (0,0)|     Morphine|  Soudia|    40.0|Belle-ville|   (0,1)|  2mg/ml|\n",
      "|[60272a984079925f...|      (0,0)|     Morphine|  Soudia|    40.0|Belle-ville|   (0,1)|  2mg/ml|\n",
      "|[60272a984079925f...|      (0,0)|     Morphine|  Soudia|    40.0|Belle-ville|   (0,1)|  2mg/ml|\n",
      "|[60272a984079925f...|      (0,0)|     Morphine|  Soudia|    40.0|Belle-ville|   (0,1)|  2mg/ml|\n",
      "|[60272a984079925f...|      (0,0)|     Morphine|  Soudia|    40.0|Belle-ville|   (0,1)|  2mg/ml|\n",
      "|[60272a984079925f...|      (0,0)|     Morphine|  Soudia|    40.0|Belle-ville|   (0,1)|  2mg/ml|\n",
      "|[60272a984079925f...|      (0,0)|     Morphine|  Soudia|    40.0|Belle-ville|   (0,1)|  2mg/ml|\n",
      "|[60272a984079925f...|      (0,0)|     Morphine|  Soudia|    40.0|Belle-ville|   (0,1)|  2mg/ml|\n",
      "+--------------------+-----------+-------------+--------+--------+-----------+--------+--------+\n",
      "only showing top 20 rows\n",
      "\n"
     ]
    }
   ],
   "source": [
    "df = myspark.read.format(\"com.mongodb.spark.sql.DefaultSource\").load()   \n",
    "\n",
    "print(df.printSchema()) \n",
    "\n",
    "df.show()"
   ]
  },
  {
   "cell_type": "markdown",
   "metadata": {
    "id": "1UIdRRiRzHq2"
   },
   "source": [
    "La cellule ci dessous permet d'inserer des donnees de la collection \"medecines\" de la base GIS"
   ]
  },
  {
   "cell_type": "code",
   "execution_count": 5,
   "metadata": {
    "id": "Pm6D7FSfzXcs"
   },
   "outputs": [
    {
     "name": "stdout",
     "output_type": "stream",
     "text": [
      "+-----------+-----------+--------+--------+----------+--------+--------+\n",
      "|region_name|cluster_ref|site_ref|pharmacy|     drugs|  specif|quantity|\n",
      "+-----------+-----------+--------+--------+----------+--------+--------+\n",
      "|Lafiabougou|    (20,20)| (60,60)| Harmony|   Artefan|500mg/ml|      15|\n",
      "|Lafiabougou|    (20,20)| (60,60)| Harmony|Lumatherme|500mg/ml|      20|\n",
      "+-----------+-----------+--------+--------+----------+--------+--------+\n",
      "\n"
     ]
    }
   ],
   "source": [
    "schema = StructType([\n",
    "    StructField(\"region_name\", StringType()),\n",
    "    StructField(\"cluster_ref\",  StringType()),\n",
    "    StructField(\"site_ref\", StringType()),\n",
    "    StructField(\"pharmacy\",  StringType()),\n",
    "    StructField(\"drugs\",  StringType()),\n",
    "    StructField(\"specif\",  StringType()),\n",
    "    StructField(\"quantity\",  IntegerType())\n",
    "])\n",
    "\n",
    "df = myspark.createDataFrame([('Lafiabougou', '(20,20)', '(60,60)','Harmony','Artefan','500mg/ml',15),('Lafiabougou', '(20,20)', '(60,60)','Harmony','Lumatherme','500mg/ml',20) ], schema)\n",
    "\n",
    "df.show()\n",
    "\n",
    "df.write.format('com.mongodb.spark.sql.DefaultSource').mode(\"append\").save()"
   ]
  },
  {
   "cell_type": "raw",
   "metadata": {},
   "source": [
    "La cellule ci apres permet de lancer en parallèle 10 threads pour la recuperation de different cluster dans MongoDB"
   ]
  },
  {
   "cell_type": "code",
   "execution_count": 6,
   "metadata": {},
   "outputs": [
    {
     "name": "stdout",
     "output_type": "stream",
     "text": [
      "Le temps d'execution du Global Parallele{} 0.00043010711669921875\n",
      "ID of process running main program: 6180\n",
      "Main thread name: MainThread\n",
      "starting threads Now !\n",
      "Wait until all threads finish\n",
      "Le temps d'execution du task2{} 0.5231492519378662\n",
      "Le temps d'execution du task1{} 0.6580052375793457\n"
     ]
    }
   ],
   "source": [
    "import pymongo # Interface from Python <---> MongoDB\n",
    "import pandas as pd\n",
    "import threading\n",
    "import time\n",
    "import os\n",
    "from pymongo import MongoClient\n",
    "from bson.code import Code # Help MongoDB with map-reduce\n",
    "\n",
    "client = MongoClient('mongodb://localhost:27017/')\n",
    "\n",
    "db = client[\"gis\"]\n",
    "\n",
    "collection = db[\"medecines\"]\n",
    "\n",
    "produits = collection.find({})\n",
    "\n",
    "# print(produits.next())\n",
    "\n",
    "start_time = time.time()\n",
    "\n",
    "def task1():\n",
    "    # Map Function:\n",
    "    start_t1 = time.time()\n",
    "    mapper = Code(\"function(){ var skill =this.drugs ='Morphine';\\\n",
    "               if(this.quantity>0){\\\n",
    "                   for(i in skill){emit({Information:{Pharmacy:this.pharmacy,Produits:this.drugs,\\\n",
    "                   Specification:this.specif,Reference:this.cluster_ref}},\\\n",
    "                   1);}\\\n",
    "                 }\\\n",
    "               }\")\n",
    "    # Reduce:\n",
    "    \n",
    "    reducer = Code(\"function(key,values){return Array.sum(values);}\")\n",
    "\n",
    "    # Bringing it all together, creating an output file: 'ppl_skillCount'\n",
    "    map_red = collection.map_reduce(mapper,reducer,'ppl_skillCount')\n",
    "\n",
    "    end_t1 = time.time()\n",
    "\n",
    "    print(\"Le temps d'execution du task1{}\", end_t1 -start_t1)\n",
    "\n",
    "\n",
    "def task2():\n",
    "    # Map Function:\n",
    "    start_t2 = time.time() \n",
    "    mapper1 = Code(\"function(){ var skill =this.drugs ='Naloxone';\\\n",
    "               if(this.quantity>0){\\\n",
    "                   for(i in skill){emit({Information:{Pharmacy:this.pharmacy,Produits:this.drugs,Specification:this.specif,Reference:this.cluster_ref}},\\\n",
    "                   1);}\\\n",
    "                 }\\\n",
    "               }\")\n",
    "    reducer = Code(\"function(key,values){return Array.sum(values);}\")\n",
    "\n",
    "    # Bringing it all together, creating an output file: 'ppl_skillCount'\n",
    "    map_reduce1 = collection.map_reduce(mapper1,reducer,'ppl_skillCount2')\n",
    "    \n",
    "    end_t2 = time.time() \n",
    "    \n",
    "    print(\"Le temps d'execution du task2{}\", end_t2 -start_t2)\n",
    "\n",
    "end_time = time.time()\n",
    "\n",
    "print(\"Le temps d'execution du Global Parallele{}\", end_time -start_time)\n",
    "\n",
    "if __name__ == \"__main__\":\n",
    " \n",
    "    # print ID of current process\n",
    "    print(\"ID of process running main program: {}\".format(os.getpid()))\n",
    " \n",
    "    # print name of main thread\n",
    "    print(\"Main thread name: {}\".format(threading.main_thread().name))\n",
    "   \n",
    "    # creating threads\n",
    "   \n",
    "    t1 = threading.Thread(target=task1, name='t1')\n",
    "    t2 = threading.Thread(target=task2, name='t2')  \n",
    "\n",
    "    # starting threads\n",
    "    print(\"starting threads Now !\")\n",
    "    t1.start()   \n",
    "    t2.start()    \n",
    "    # wait until all threads finish\n",
    "    print(\"Wait until all threads finish\")\n",
    "    t1.join()    \n",
    "    t2.join()   "
   ]
  },
  {
   "cell_type": "code",
   "execution_count": 7,
   "metadata": {},
   "outputs": [
    {
     "data": {
      "text/plain": [
       "[{'_id': {'Information': {'Pharmacy': 'Eureka',\n",
       "    'Produits': 'Morphine',\n",
       "    'Specification': '500mg/ml',\n",
       "    'Reference': '(0,3)'}},\n",
       "  'value': 330.0},\n",
       " {'_id': {'Information': {'Pharmacy': 'Hayatt',\n",
       "    'Produits': 'Morphine',\n",
       "    'Specification': '75mg/ml',\n",
       "    'Reference': '(0,2)'}},\n",
       "  'value': 44.0},\n",
       " {'_id': {'Information': {'Pharmacy': 'Wobi',\n",
       "    'Produits': 'Morphine',\n",
       "    'Specification': '50mg/ml',\n",
       "    'Reference': '(2,5)'}},\n",
       "  'value': 1100.0},\n",
       " {'_id': {'Information': {'Pharmacy': 'Soudia',\n",
       "    'Produits': 'Morphine',\n",
       "    'Specification': '5mg/ml',\n",
       "    'Reference': '(0,0)'}},\n",
       "  'value': 11.0},\n",
       " {'_id': {'Information': {'Pharmacy': 'Eureka',\n",
       "    'Produits': 'Morphine',\n",
       "    'Specification': '5mg/ml',\n",
       "    'Reference': '(0,3)'}},\n",
       "  'value': 55.0}]"
      ]
     },
     "execution_count": 7,
     "metadata": {},
     "output_type": "execute_result"
    }
   ],
   "source": [
    "# Printing it all out as dictionary format stored in a list:\n",
    "mapper = Code(\"function(){ var skill =this.drugs ='Morphine';\\\n",
    "           if(this.quantity>0){\\\n",
    "               for(i in skill){emit({Information:{Pharmacy:this.pharmacy,Produits:this.drugs,\\\n",
    "               Specification:this.specif,Reference:this.cluster_ref}},\\\n",
    "               1);}\\\n",
    "             }\\\n",
    "           }\")\n",
    "# Reduce:\n",
    "\n",
    "reducer = Code(\"function(key,values){return Array.sum(values);}\")\n",
    "\n",
    "# Bringing it all together, creating an output file: 'ppl_skillCount'\n",
    "map_red = collection.map_reduce(mapper,reducer,'ppl_skillCount')\n",
    "\n",
    "ppl_skills=[]\n",
    "for skills in map_red.find():\n",
    "    ppl_skills.append(skills)\n",
    "ppl_skills[:5]\n"
   ]
  },
  {
   "cell_type": "code",
   "execution_count": null,
   "metadata": {},
   "outputs": [],
   "source": []
  }
 ],
 "metadata": {
  "colab": {
   "name": "Spark_Mongodb.ipynb",
   "provenance": []
  },
  "kernelspec": {
   "display_name": "Python 3 (ipykernel)",
   "language": "python",
   "name": "python3"
  },
  "language_info": {
   "codemirror_mode": {
    "name": "ipython",
    "version": 3
   },
   "file_extension": ".py",
   "mimetype": "text/x-python",
   "name": "python",
   "nbconvert_exporter": "python",
   "pygments_lexer": "ipython3",
   "version": "3.9.13"
  }
 },
 "nbformat": 4,
 "nbformat_minor": 1
}
